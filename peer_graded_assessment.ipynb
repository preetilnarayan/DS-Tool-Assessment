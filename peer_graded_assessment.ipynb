{
  "metadata": {
    "kernelspec": {
      "name": "python",
      "display_name": "Python (Pyodide)",
      "language": "python"
    },
    "language_info": {
      "codemirror_mode": {
        "name": "python",
        "version": 3
      },
      "file_extension": ".py",
      "mimetype": "text/x-python",
      "name": "python",
      "nbconvert_exporter": "python",
      "pygments_lexer": "ipython3",
      "version": "3.8"
    }
  },
  "nbformat_minor": 5,
  "nbformat": 4,
  "cells": [
    {
      "id": "3872e0c1-6622-4b39-903a-d9ff60e3c947",
      "cell_type": "markdown",
      "source": "# Final Project Notebook",
      "metadata": {}
    },
    {
      "id": "dcf3571a-0bb6-446f-895b-6211f0d94007",
      "cell_type": "markdown",
      "source": "## Introduction  \nThis notebook demonstrates basic skills in Markdown and Python. It covers examples of data science languages, libraries, tools, and arithmetic operations.\n",
      "metadata": {}
    },
    {
      "id": "12a4ef01-13b9-45ee-9482-792ccd9dc62a",
      "cell_type": "markdown",
      "source": "## Data Science Languages  \n- Python  \n- R  \n- SQL  \n",
      "metadata": {}
    },
    {
      "id": "e4d03845-7ddf-4e86-9a4c-bcb4665fb2ea",
      "cell_type": "markdown",
      "source": "## Data Science Libraries  \n- NumPy  \n- Pandas  \n- TensorFlow  \n- Matplotlib  \n",
      "metadata": {}
    },
    {
      "id": "d277638f-a03b-44db-bf6a-aab785fba5de",
      "cell_type": "markdown",
      "source": "## Data Science Tools  \n\n| Tool            | Description                     |  \n|-----------------|---------------------------------|  \n| Jupyter Notebook| Interactive environment for coding and visualizations. |  \n| RStudio         | IDE for R programming.          |  \n| Apache Spark    | Cluster computing for big data. |  \n",
      "metadata": {}
    },
    {
      "id": "376604d0-d0b4-45ed-bf6b-05d3e260d3ef",
      "cell_type": "markdown",
      "source": "## Arithmetic Expression Examples  \nBelow are examples of basic arithmetic operations like addition and multiplication.  \n",
      "metadata": {}
    },
    {
      "id": "7ccd6913-d500-41a8-b674-50f9cb5731b0",
      "cell_type": "code",
      "source": "# Multiplying and adding numbers\nresult = (3 * 4) + 5\nprint(\"Result:\", result)",
      "metadata": {
        "trusted": true
      },
      "outputs": [
        {
          "name": "stdout",
          "output_type": "stream",
          "text": "Result: 17\n"
        }
      ],
      "execution_count": 1
    },
    {
      "id": "9e2954bb-de2c-4863-a70e-c38513259383",
      "cell_type": "code",
      "source": "# Converting minutes to hours\nminutes = 200\nhours = minutes / 60\nprint(f\"{minutes} minutes is equal to {hours:.2f} hours\")",
      "metadata": {
        "trusted": true
      },
      "outputs": [
        {
          "name": "stdout",
          "output_type": "stream",
          "text": "200 minutes is equal to 3.33 hours\n"
        }
      ],
      "execution_count": 2
    },
    {
      "id": "87945796-2d77-46cf-8e8e-0587c29da1be",
      "cell_type": "markdown",
      "source": "## Objectives  \n- Learn Markdown formatting.  \n- Explore Python code examples.  \n- Understand the tools and libraries used in Data Science.  \n",
      "metadata": {}
    },
    {
      "id": "ed982b33-b24d-4e5f-9454-fc861af0c585",
      "cell_type": "markdown",
      "source": "## Author  \nPreeti Lakshmi Narayan",
      "metadata": {}
    },
    {
      "id": "190cab55-12f1-482b-8f76-88982c778479",
      "cell_type": "code",
      "source": "",
      "metadata": {
        "trusted": true
      },
      "outputs": [],
      "execution_count": null
    }
  ]
}